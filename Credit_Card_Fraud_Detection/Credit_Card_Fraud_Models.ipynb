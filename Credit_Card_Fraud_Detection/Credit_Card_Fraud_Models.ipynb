{
 "cells": [
  {
   "cell_type": "code",
   "execution_count": 2,
   "id": "918b5336",
   "metadata": {},
   "outputs": [],
   "source": [
    "import numpy as np\n",
    "import matplotlib.pyplot as plt\n",
    "import pandas as pd\n",
    "\n",
    "# Load and contruct the data\n",
    "df = pd.read_csv(\"card_transdata.csv\")\n",
    "\n",
    "#drop empty rows\n",
    "df=df.dropna()"
   ]
  },
  {
   "cell_type": "code",
   "execution_count": 3,
   "id": "9e3f6846",
   "metadata": {
    "scrolled": true
   },
   "outputs": [
    {
     "data": {
      "text/plain": [
       "87403"
      ]
     },
     "execution_count": 3,
     "metadata": {},
     "output_type": "execute_result"
    }
   ],
   "source": [
    "#total number of fraudulent transactions\n",
    "df[df['fraud'] == 1].count()[-1]"
   ]
  },
  {
   "cell_type": "code",
   "execution_count": 4,
   "id": "98cbbaa7",
   "metadata": {},
   "outputs": [
    {
     "data": {
      "text/plain": [
       "912597"
      ]
     },
     "execution_count": 4,
     "metadata": {},
     "output_type": "execute_result"
    }
   ],
   "source": [
    "#total number of non-fraudulent transactions\n",
    "df[df['fraud'] == 0].count()[-1]"
   ]
  },
  {
   "cell_type": "code",
   "execution_count": 5,
   "id": "dba2f95f",
   "metadata": {},
   "outputs": [],
   "source": [
    "#randomly extract 5000 rows from fraudulent and non-fraudulent transactions\n",
    "pred_fraudulent_transactions = df[df['fraud'] == 1].sample(n=5000)\n",
    "pred_nonfraudulent_transactions= df[df['fraud'] == 0].sample(n=5000)\n",
    "\n",
    "#concat to create dataframe for prediction models\n",
    "pred_df = pd.concat([pred_fraudulent_transactions,pred_nonfraudulent_transactions])"
   ]
  },
  {
   "cell_type": "code",
   "execution_count": 6,
   "id": "e71a2f7a",
   "metadata": {},
   "outputs": [],
   "source": [
    "#same for optimizatoin model\n",
    "opt_fraudulent_transactions = df[df['fraud'] == 1].sample(n=13)\n",
    "opt_nonfraudulent_transactions= df[df['fraud'] == 0].sample(n=13)\n",
    "opt_df = pd.concat([opt_fraudulent_transactions,opt_nonfraudulent_transactions])"
   ]
  },
  {
   "cell_type": "markdown",
   "id": "c34fcd7b",
   "metadata": {},
   "source": [
    "## Data Processing"
   ]
  },
  {
   "cell_type": "code",
   "execution_count": 7,
   "id": "23db276c",
   "metadata": {},
   "outputs": [],
   "source": [
    "#visialize and log transform three continuous variables\n",
    "x = pred_df[\"distance_from_home\"]\n",
    "x2 = pred_df[\"distance_from_last_transaction\"]\n",
    "x3 = pred_df[\"ratio_to_median_purchase_price\"]\n",
    "\n",
    "opt_x = opt_df[\"distance_from_home\"]\n",
    "opt_x2 = opt_df[\"distance_from_last_transaction\"]\n",
    "opt_x3 = opt_df[\"ratio_to_median_purchase_price\"]"
   ]
  },
  {
   "cell_type": "code",
   "execution_count": 8,
   "id": "de214845",
   "metadata": {},
   "outputs": [
    {
     "data": {
      "text/plain": [
       "Text(0.5, 1.0, 'Log-Transformed Data')"
      ]
     },
     "execution_count": 8,
     "metadata": {},
     "output_type": "execute_result"
    },
    {
     "data": {
      "image/png": "[encoded data removed]",
      "text/plain": [
       "<Figure size 432x288 with 2 Axes>"
      ]
     },
     "metadata": {
      "needs_background": "light"
     },
     "output_type": "display_data"
    }
   ],
   "source": [
    "#create log data\n",
    "logx = np.log(x)\n",
    "\n",
    "#define grid of plots\n",
    "fig, axs = plt.subplots(nrows=1, ncols=2)\n",
    "\n",
    "#create histograms\n",
    "axs[0].hist(x, edgecolor='black')\n",
    "axs[1].hist(logx, edgecolor='black')\n",
    "\n",
    "#add title to each histogram\n",
    "axs[0].set_title('distance_from_home')\n",
    "axs[1].set_title('Log-Transformed Data')"
   ]
  },
  {
   "cell_type": "code",
   "execution_count": 9,
   "id": "d4af1974",
   "metadata": {},
   "outputs": [
    {
     "data": {
      "text/plain": [
       "Text(0.5, 1.0, 'Log-Transformed Data')"
      ]
     },
     "execution_count": 9,
     "metadata": {},
     "output_type": "execute_result"
    },
    {
     "data": {
      "image/png": "[encoded data removed]",
      "text/plain": [
       "<Figure size 432x288 with 2 Axes>"
      ]
     },
     "metadata": {
      "needs_background": "light"
     },
     "output_type": "display_data"
    }
   ],
   "source": [
    "logx2 = np.log(x2)\n",
    "\n",
    "#define grid of plots\n",
    "fig, axs = plt.subplots(nrows=1, ncols=2)\n",
    "\n",
    "#create histograms\n",
    "axs[0].hist(x, edgecolor='black')\n",
    "axs[1].hist(logx, edgecolor='black')\n",
    "\n",
    "#add title to each histogram\n",
    "axs[0].set_title('distance_from_last_transaction')\n",
    "axs[1].set_title('Log-Transformed Data')"
   ]
  },
  {
   "cell_type": "code",
   "execution_count": 10,
   "id": "de4eaf76",
   "metadata": {},
   "outputs": [
    {
     "data": {
      "text/plain": [
       "Text(0.5, 1.0, 'Log-Transformed Data')"
      ]
     },
     "execution_count": 10,
     "metadata": {},
     "output_type": "execute_result"
    },
    {
     "data": {
      "image/png": "[encoded data removed]",
      "text/plain": [
       "<Figure size 432x288 with 2 Axes>"
      ]
     },
     "metadata": {
      "needs_background": "light"
     },
     "output_type": "display_data"
    }
   ],
   "source": [
    "#create log data\n",
    "logx3 = np.log(x3)\n",
    "\n",
    "#define grid of plots\n",
    "fig, axs = plt.subplots(nrows=1, ncols=2)\n",
    "\n",
    "#create histograms\n",
    "axs[0].hist(x, edgecolor='black')\n",
    "axs[1].hist(logx, edgecolor='black')\n",
    "\n",
    "#add title to each histogram\n",
    "axs[0].set_title('ratio_to_median_purchase_price')\n",
    "axs[1].set_title('Log-Transformed Data')"
   ]
  },
  {
   "cell_type": "code",
   "execution_count": 11,
   "id": "8e0c1c5e",
   "metadata": {},
   "outputs": [],
   "source": [
    "#set up X and y for prediction models\n",
    "X = pd.concat([logx, logx2, logx3, pred_df.iloc[:,4:7]], axis=1)\n",
    "y = pred_df[\"fraud\"]"
   ]
  },
  {
   "cell_type": "markdown",
   "id": "7993cc14",
   "metadata": {},
   "source": [
    "## Logistic Regression"
   ]
  },
  {
   "cell_type": "code",
   "execution_count": 12,
   "id": "e663df3d",
   "metadata": {},
   "outputs": [],
   "source": [
    "from sklearn.linear_model import LogisticRegression\n",
    "# Split the data\n",
    "from sklearn.model_selection import train_test_split\n",
    "X_train1, X_test1, y_train1, y_test1 = train_test_split(X, y, test_size = 0.33, random_state = 5)\n",
    "# Run the model\n",
    "lr = LogisticRegression(max_iter=10000)\n",
    "m1 = lr.fit(X_train1, y_train1)\n",
    "\n",
    "y_test_pred1 = m1.predict(X_test1)"
   ]
  },
  {
   "cell_type": "code",
   "execution_count": 13,
   "id": "90bf6f89",
   "metadata": {
    "scrolled": true
   },
   "outputs": [
    {
     "name": "stdout",
     "output_type": "stream",
     "text": [
      "logistic accuracy:  0.8569696969696969 \n",
      "\n",
      "         pred:0  pred: 1\n",
      "true: 0    1384      261\n",
      "true: 1     211     1444\n",
      "\n",
      "f1 score:  0.8595238095238096\n",
      "precision :  0.8469208211143695\n",
      "recall :  0.8725075528700906\n"
     ]
    }
   ],
   "source": [
    "# Calculate the accuracy score and confusion matrix\n",
    "from sklearn import metrics\n",
    "print('logistic accuracy: ', metrics.accuracy_score(y_test1, y_test_pred1),'\\n')\n",
    "\n",
    "print(pd.DataFrame(metrics.confusion_matrix(y_test1, y_test_pred1, \n",
    "                                                labels = [0,1]), \n",
    "                       index = ['true: 0', 'true: 1'], \n",
    "                       columns = ['pred:0', 'pred: 1']))\n",
    "\n",
    "print('\\nf1 score: ', metrics.f1_score(y_test1, y_test_pred1))\n",
    "\n",
    "print('precision : ', metrics.precision_score(y_test1, y_test_pred1))\n",
    "\n",
    "print('recall : ', metrics.recall_score(y_test1, y_test_pred1))"
   ]
  },
  {
   "cell_type": "code",
   "execution_count": 14,
   "id": "368f0920",
   "metadata": {},
   "outputs": [],
   "source": [
    "#probabilities from logistic regression\n",
    "proba=m1.predict_proba(X_test1)[:,1]"
   ]
  },
  {
   "cell_type": "code",
   "execution_count": 15,
   "id": "bd98c676",
   "metadata": {},
   "outputs": [
    {
     "name": "stdout",
     "output_type": "stream",
     "text": [
      "[[ 0.56992136]\n",
      " [ 0.24883669]\n",
      " [ 1.7729776 ]\n",
      " [-1.18305514]\n",
      " [-4.47438702]\n",
      " [ 2.75165806]] [-4.45953593]\n"
     ]
    }
   ],
   "source": [
    "#coefficient and intercept\n",
    "m1.coef_=np.array(m1.coef_)\n",
    "m1.coef_=m1.coef_.reshape([6, 1])\n",
    "print(m1.coef_, m1.intercept_)"
   ]
  },
  {
   "cell_type": "code",
   "execution_count": 16,
   "id": "e59a021d",
   "metadata": {},
   "outputs": [
    {
     "data": {
      "text/plain": [
       "315804   -5.862350\n",
       "308462    3.389407\n",
       "117186    1.735038\n",
       "523110    1.925480\n",
       "236651    5.085416\n",
       "            ...   \n",
       "932414   -4.528152\n",
       "694585   -4.679390\n",
       "865581   -0.329308\n",
       "434944   -6.242787\n",
       "518461    2.292367\n",
       "Name: 0, Length: 3300, dtype: float64"
      ]
     },
     "execution_count": 16,
     "metadata": {},
     "output_type": "execute_result"
    }
   ],
   "source": [
    "#obtain linear equation through multiplication\n",
    "lin=X_test1.dot(m1.coef_)+m1.intercept_\n",
    "lin[0]"
   ]
  },
  {
   "cell_type": "code",
   "execution_count": 17,
   "id": "a6e4a907",
   "metadata": {},
   "outputs": [
    {
     "data": {
      "text/plain": [
       "3300"
      ]
     },
     "execution_count": 17,
     "metadata": {},
     "output_type": "execute_result"
    }
   ],
   "source": [
    "len(list(1 / (1 +np.exp(-lin[0]))))"
   ]
  },
  {
   "cell_type": "code",
   "execution_count": 18,
   "id": "eace72c5",
   "metadata": {},
   "outputs": [
    {
     "data": {
      "text/plain": [
       "3300"
      ]
     },
     "execution_count": 18,
     "metadata": {},
     "output_type": "execute_result"
    }
   ],
   "source": [
    "len(proba)"
   ]
  },
  {
   "cell_type": "code",
   "execution_count": 19,
   "id": "ba5ae5c2",
   "metadata": {},
   "outputs": [],
   "source": [
    "#calculate probabilities\n",
    "1 / (1 +np.exp(-lin[0]))\n",
    "d = {'cal_prob':list(1 / (1 +np.exp(-lin[0]))), 'logistic_prob':proba,'y_test_pred': list(y_test_pred1),'y_true':list(y_test1)}\n",
    "d= pd.DataFrame(d)"
   ]
  },
  {
   "cell_type": "code",
   "execution_count": null,
   "id": "947b15ab",
   "metadata": {},
   "outputs": [],
   "source": []
  },
  {
   "cell_type": "markdown",
   "id": "b98ab3a1",
   "metadata": {},
   "source": [
    "## K-Nearest Neighbor"
   ]
  },
  {
   "cell_type": "code",
   "execution_count": 21,
   "id": "1c140e77",
   "metadata": {},
   "outputs": [],
   "source": [
    "from sklearn.neighbors import KNeighborsClassifier\n",
    "from sklearn.preprocessing import StandardScaler\n",
    "\n",
    "#standardize X for KNN\n",
    "standardizer = StandardScaler()\n",
    "X_std = standardizer.fit_transform(X)\n",
    "\n",
    "#split the dataset into train and test\n",
    "from sklearn.model_selection import train_test_split\n",
    "X_train2, X_test2, y_train2, y_test2 = train_test_split(X_std, y, test_size = 0.33, random_state = 5)"
   ]
  },
  {
   "cell_type": "code",
   "execution_count": 22,
   "id": "9808f5e3",
   "metadata": {},
   "outputs": [
    {
     "name": "stdout",
     "output_type": "stream",
     "text": [
      "1 0.9769696969696969\n",
      "1 0.9772182254196642\n",
      "2 0.9724242424242424\n",
      "2 0.9723320158102767\n",
      "3 0.9763636363636363\n",
      "3 0.9768270944741533\n",
      "4 0.9775757575757575\n",
      "4 0.9778575703171754\n",
      "5 0.9724242424242424\n",
      "5 0.9730689553122225\n",
      "6 0.9724242424242424\n",
      "6 0.9729247247842903\n",
      "7 0.9684848484848485\n",
      "7 0.9692852923803899\n",
      "8 0.97\n",
      "8 0.9706318599822011\n",
      "9 0.9687878787878788\n",
      "9 0.969589607322114\n",
      "10 0.9687878787878788\n",
      "10 0.9694452684663305\n"
     ]
    }
   ],
   "source": [
    "#use looping to find the optimal k\n",
    "from sklearn import metrics\n",
    "a=[0,0]\n",
    "f=[0,0]\n",
    "for i in range (1,11):\n",
    "    knn4 = KNeighborsClassifier(n_neighbors=i) \n",
    "    m2 = knn4.fit(X_train2,y_train2) \n",
    "    y_test_pred2 = m2.predict(X_test2) \n",
    "    print(i, metrics.accuracy_score(y_test2, y_test_pred2)) #2,3,4,5,6,8,10\n",
    "    if metrics.accuracy_score(y_test2, y_test_pred2) > a[1]:\n",
    "        a[0]=i\n",
    "        a[1] = metrics.accuracy_score(y_test2, y_test_pred2)\n",
    "    print(i, metrics.f1_score(y_test2, y_test_pred2))\n",
    "    if metrics.f1_score(y_test2, y_test_pred2) > f[1]:\n",
    "        f[0]=i\n",
    "        f[1]=metrics.f1_score(y_test2, y_test_pred2)"
   ]
  },
  {
   "cell_type": "code",
   "execution_count": 23,
   "id": "e9beeaab",
   "metadata": {},
   "outputs": [
    {
     "name": "stdout",
     "output_type": "stream",
     "text": [
      "KNN accuracy:  [4, 0.9775757575757575] \n",
      "\n",
      "         pred:0  pred: 1\n",
      "true: 0    1563       82\n",
      "true: 1      21     1634\n",
      "\n",
      "f1 score:  [4, 0.9778575703171754]\n",
      "precision :  0.9522144522144522\n",
      "recall :  0.9873111782477342\n"
     ]
    }
   ],
   "source": [
    "print('KNN accuracy: ', a,'\\n')\n",
    "\n",
    "print(pd.DataFrame(metrics.confusion_matrix(y_test2, y_test_pred2, \n",
    "                                                labels = [0,1]), \n",
    "                       index = ['true: 0', 'true: 1'], \n",
    "                       columns = ['pred:0', 'pred: 1']))\n",
    "\n",
    "print('\\nf1 score: ', f)\n",
    "\n",
    "print('precision : ', metrics.precision_score(y_test2, y_test_pred2))\n",
    "\n",
    "print('recall : ', metrics.recall_score(y_test2, y_test_pred2))"
   ]
  },
  {
   "cell_type": "markdown",
   "id": "1b5edb27",
   "metadata": {},
   "source": [
    "## Gradient Boosting Tree"
   ]
  },
  {
   "cell_type": "code",
   "execution_count": 24,
   "id": "f4bb31cf",
   "metadata": {},
   "outputs": [],
   "source": [
    "from sklearn.model_selection import train_test_split\n",
    "X_train3,X_test3,y_train3,y_test3 = train_test_split(X,y,test_size=0.33,random_state=5)\n",
    "\n",
    "from sklearn.ensemble import GradientBoostingClassifier\n",
    "gbt = GradientBoostingClassifier()\n",
    "\n",
    "m3 = gbt.fit(X_train3, y_train3) \n",
    "y_test_pred3 = m3.predict(X_test3)"
   ]
  },
  {
   "cell_type": "code",
   "execution_count": 25,
   "id": "346948f4",
   "metadata": {},
   "outputs": [
    {
     "name": "stdout",
     "output_type": "stream",
     "text": [
      "GBT accuracy:  0.9963636363636363 \n",
      "\n",
      "         pred:0  pred: 1\n",
      "true: 0    1637        8\n",
      "true: 1       4     1651\n",
      "\n",
      "f1 score:  0.996378998189499\n",
      "precision :  0.995177817962628\n",
      "recall :  0.997583081570997\n"
     ]
    }
   ],
   "source": [
    "\n",
    "print('GBT accuracy: ', metrics.accuracy_score(y_test3, y_test_pred3),'\\n')\n",
    "\n",
    "print(pd.DataFrame(metrics.confusion_matrix(y_test3, y_test_pred3, \n",
    "                                                labels = [0,1]), \n",
    "                       index = ['true: 0', 'true: 1'], \n",
    "                       columns = ['pred:0', 'pred: 1']))\n",
    "\n",
    "print('\\nf1 score: ', metrics.f1_score(y_test3, y_test_pred3))\n",
    "\n",
    "print('precision : ', metrics.precision_score(y_test3, y_test_pred3))\n",
    "\n",
    "print('recall : ', metrics.recall_score(y_test3, y_test_pred3))"
   ]
  },
  {
   "cell_type": "markdown",
   "id": "facd115a",
   "metadata": {},
   "source": [
    "## Optimization"
   ]
  },
  {
   "cell_type": "code",
   "execution_count": 26,
   "id": "79ecffc9",
   "metadata": {},
   "outputs": [],
   "source": [
    "#log transformation for optimization data as well\n",
    "opt_x = opt_df[\"distance_from_home\"]\n",
    "opt_x2 = opt_df[\"distance_from_last_transaction\"]\n",
    "opt_x3 = opt_df[\"ratio_to_median_purchase_price\"]\n",
    "\n",
    "opt_logx = np.log(opt_x)\n",
    "opt_logx2 = np.log(opt_x2)\n",
    "opt_logx3 = np.log(opt_x3)\n",
    "\n",
    "opt_X = pd.concat([opt_logx, opt_logx2, opt_logx3, opt_df.iloc[:,4:7]], axis=1)\n",
    "opt_y = opt_df[\"fraud\"]"
   ]
  },
  {
   "cell_type": "code",
   "execution_count": 27,
   "id": "d9ed65eb",
   "metadata": {},
   "outputs": [
    {
     "data": {
      "text/plain": [
       "(26, 6)"
      ]
     },
     "execution_count": 27,
     "metadata": {},
     "output_type": "execute_result"
    }
   ],
   "source": [
    "opt_X.shape"
   ]
  },
  {
   "cell_type": "code",
   "execution_count": 28,
   "id": "bad4a291",
   "metadata": {},
   "outputs": [],
   "source": [
    "m1 = lr.fit(X_train1, y_train1)\n",
    "opt_y_pred = m1.predict(opt_X)\n",
    "opt_proba=m1.predict_proba(opt_X)[:,1]"
   ]
  },
  {
   "cell_type": "code",
   "execution_count": 29,
   "id": "249e7754",
   "metadata": {},
   "outputs": [
    {
     "name": "stdout",
     "output_type": "stream",
     "text": [
      "[[ 0.56410203]\n",
      " [ 0.22488285]\n",
      " [ 1.76361529]\n",
      " [-1.29824562]\n",
      " [-4.14724227]\n",
      " [ 2.95295394]] [-4.60276634]\n"
     ]
    },
    {
     "data": {
      "text/plain": [
       "81970     0.817883\n",
       "814400    1.174865\n",
       "317223    1.614522\n",
       "488094   -1.746511\n",
       "716876   -1.404921\n",
       "490270    0.856639\n",
       "479137    3.963458\n",
       "612881    0.509143\n",
       "999364    5.946322\n",
       "105422    1.176032\n",
       "469723    1.374161\n",
       "630980    2.412154\n",
       "672797    3.544277\n",
       "250935   -2.734185\n",
       "843679   -0.532047\n",
       "273881   -3.618483\n",
       "68057    -0.928437\n",
       "654483    0.456091\n",
       "919758   -0.692670\n",
       "204849   -2.354937\n",
       "526715   -1.367680\n",
       "86527    -5.877343\n",
       "406510   -7.135908\n",
       "197312    0.646218\n",
       "407880   -0.873948\n",
       "199549   -0.215675\n",
       "Name: 0, dtype: float64"
      ]
     },
     "execution_count": 29,
     "metadata": {},
     "output_type": "execute_result"
    }
   ],
   "source": [
    "m1.coef_=np.array(m1.coef_)\n",
    "m1.coef_=m1.coef_.reshape([6, 1])\n",
    "print(m1.coef_, m1.intercept_)\n",
    "opt_lin=opt_X.dot(m1.coef_)+m1.intercept_\n",
    "opt_lin[0]"
   ]
  },
  {
   "cell_type": "code",
   "execution_count": 38,
   "id": "62240b2d",
   "metadata": {},
   "outputs": [],
   "source": [
    "#calculate probabilities\n",
    "#1 / (1 +np.exp(-opt_lin[0]))\n",
    "d = {'cal_prob':list(1 / (1 +np.exp(-opt_lin[0]))), 'logistic_prob':opt_proba,'y_pred': list(opt_y_pred),'y_true':list(opt_y)}\n",
    "d= pd.DataFrame(d)"
   ]
  },
  {
   "cell_type": "code",
   "execution_count": 39,
   "id": "31382139",
   "metadata": {
    "scrolled": true
   },
   "outputs": [
    {
     "data": {
      "text/html": [
       "<div>\n",
       "<style scoped>\n",
       "    .dataframe tbody tr th:only-of-type {\n",
       "        vertical-align: middle;\n",
       "    }\n",
       "\n",
       "    .dataframe tbody tr th {\n",
       "        vertical-align: top;\n",
       "    }\n",
       "\n",
       "    .dataframe thead th {\n",
       "        text-align: right;\n",
       "    }\n",
       "</style>\n",
       "<table border=\"1\" class=\"dataframe\">\n",
       "  <thead>\n",
       "    <tr style=\"text-align: right;\">\n",
       "      <th></th>\n",
       "      <th>cal_prob</th>\n",
       "      <th>logistic_prob</th>\n",
       "      <th>y_pred</th>\n",
       "      <th>y_true</th>\n",
       "    </tr>\n",
       "  </thead>\n",
       "  <tbody>\n",
       "    <tr>\n",
       "      <th>0</th>\n",
       "      <td>0.693787</td>\n",
       "      <td>0.693787</td>\n",
       "      <td>1.0</td>\n",
       "      <td>1.0</td>\n",
       "    </tr>\n",
       "    <tr>\n",
       "      <th>1</th>\n",
       "      <td>0.764023</td>\n",
       "      <td>0.764023</td>\n",
       "      <td>1.0</td>\n",
       "      <td>1.0</td>\n",
       "    </tr>\n",
       "    <tr>\n",
       "      <th>2</th>\n",
       "      <td>0.834038</td>\n",
       "      <td>0.834038</td>\n",
       "      <td>1.0</td>\n",
       "      <td>1.0</td>\n",
       "    </tr>\n",
       "    <tr>\n",
       "      <th>5</th>\n",
       "      <td>0.701958</td>\n",
       "      <td>0.701958</td>\n",
       "      <td>1.0</td>\n",
       "      <td>1.0</td>\n",
       "    </tr>\n",
       "    <tr>\n",
       "      <th>6</th>\n",
       "      <td>0.981357</td>\n",
       "      <td>0.981357</td>\n",
       "      <td>1.0</td>\n",
       "      <td>1.0</td>\n",
       "    </tr>\n",
       "    <tr>\n",
       "      <th>8</th>\n",
       "      <td>0.997391</td>\n",
       "      <td>0.997391</td>\n",
       "      <td>1.0</td>\n",
       "      <td>1.0</td>\n",
       "    </tr>\n",
       "    <tr>\n",
       "      <th>9</th>\n",
       "      <td>0.764234</td>\n",
       "      <td>0.764234</td>\n",
       "      <td>1.0</td>\n",
       "      <td>1.0</td>\n",
       "    </tr>\n",
       "    <tr>\n",
       "      <th>10</th>\n",
       "      <td>0.798052</td>\n",
       "      <td>0.798052</td>\n",
       "      <td>1.0</td>\n",
       "      <td>1.0</td>\n",
       "    </tr>\n",
       "    <tr>\n",
       "      <th>11</th>\n",
       "      <td>0.917749</td>\n",
       "      <td>0.917749</td>\n",
       "      <td>1.0</td>\n",
       "      <td>1.0</td>\n",
       "    </tr>\n",
       "    <tr>\n",
       "      <th>12</th>\n",
       "      <td>0.971922</td>\n",
       "      <td>0.971922</td>\n",
       "      <td>1.0</td>\n",
       "      <td>1.0</td>\n",
       "    </tr>\n",
       "    <tr>\n",
       "      <th>23</th>\n",
       "      <td>0.656158</td>\n",
       "      <td>0.656158</td>\n",
       "      <td>1.0</td>\n",
       "      <td>0.0</td>\n",
       "    </tr>\n",
       "  </tbody>\n",
       "</table>\n",
       "</div>"
      ],
      "text/plain": [
       "    cal_prob  logistic_prob  y_pred  y_true\n",
       "0   0.693787       0.693787     1.0     1.0\n",
       "1   0.764023       0.764023     1.0     1.0\n",
       "2   0.834038       0.834038     1.0     1.0\n",
       "5   0.701958       0.701958     1.0     1.0\n",
       "6   0.981357       0.981357     1.0     1.0\n",
       "8   0.997391       0.997391     1.0     1.0\n",
       "9   0.764234       0.764234     1.0     1.0\n",
       "10  0.798052       0.798052     1.0     1.0\n",
       "11  0.917749       0.917749     1.0     1.0\n",
       "12  0.971922       0.971922     1.0     1.0\n",
       "23  0.656158       0.656158     1.0     0.0"
      ]
     },
     "execution_count": 39,
     "metadata": {},
     "output_type": "execute_result"
    }
   ],
   "source": [
    "d[d['logistic_prob']>0.6246056036024774]"
   ]
  },
  {
   "cell_type": "code",
   "execution_count": null,
   "id": "8d4713f0",
   "metadata": {},
   "outputs": [],
   "source": []
  },
  {
   "cell_type": "code",
   "execution_count": 49,
   "id": "f00d2779",
   "metadata": {},
   "outputs": [],
   "source": [
    "import gurobipy as gp\n",
    "\n",
    "# Create a new optimization model\n",
    "model = gp.Model('fraud_detection')\n",
    "\n",
    "# Set the continuous variable for the threshold\n",
    "z = model.addVar(lb=0.0, ub=1.0, name='z')\n",
    "\n",
    "n_rows = len(opt_y)\n",
    "y=list(opt_y)\n",
    "costs = [1,-3,0]\n",
    "p=opt_proba\n",
    "\n",
    "# Set the binary variables for the truth and prediction of fraud\n",
    "y_pred = model.addVars(np.arange(n_rows), vtype=gp.GRB.BINARY, name='y_pred')\n",
    "\n",
    "# Set the binary variables for the cost selection di,j\n",
    "d = model.addVars(np.arange(n_rows), np.arange(3), vtype=gp.GRB.BINARY, name='d')\n",
    "\n",
    "# Set the continuous variable for the cost of errors\n",
    "c = model.addVars(np.arange(n_rows),name='c')"
   ]
  },
  {
   "cell_type": "code",
   "execution_count": null,
   "id": "260a977c",
   "metadata": {},
   "outputs": [],
   "source": []
  },
  {
   "cell_type": "code",
   "execution_count": 50,
   "id": "17e38e4a",
   "metadata": {},
   "outputs": [],
   "source": [
    "# Set the objective function to minimize the cost of errors\n",
    "model.setObjective(gp.quicksum((c[i]) for i in range(n_rows)),gp.GRB.MINIMIZE)"
   ]
  },
  {
   "cell_type": "code",
   "execution_count": 51,
   "id": "8b1dedd4",
   "metadata": {},
   "outputs": [],
   "source": [
    "# Add a constraint for the threshold\n",
    "for i in range(n_rows):\n",
    "    model.addConstr(y_pred[i] <= p[i] + (1 - z))\n",
    "    model.addConstr(y_pred[i] >= p[i] - z)\n",
    "\n",
    "# Add constraints for the cost selection\n",
    "for i in range(n_rows):\n",
    "    model.addConstr(d[i,0] >= y_pred[i] - y[i])\n",
    "    model.addConstr(d[i,1] >= y[i] - y_pred[i])\n",
    "    model.addConstr(gp.quicksum(d[i,j] for j in range(3)) == 1)\n",
    "    model.addConstr(c[i] == (y_pred[i] - y[i]) * (costs[0] * d[i,0] + costs[1] * d[i,1] + costs[2] * d[i,2]))"
   ]
  },
  {
   "cell_type": "code",
   "execution_count": 52,
   "id": "c4dba34c",
   "metadata": {},
   "outputs": [
    {
     "name": "stdout",
     "output_type": "stream",
     "text": [
      "Gurobi Optimizer version 9.5.2 build v9.5.2rc0 (mac64[rosetta2])\n",
      "Thread count: 8 physical cores, 8 logical processors, using up to 8 threads\n",
      "Optimize a model with 130 rows, 131 columns and 286 nonzeros\n",
      "Model fingerprint: 0xdf1b946e\n",
      "Model has 26 quadratic constraints\n",
      "Variable types: 27 continuous, 104 integer (104 binary)\n",
      "Coefficient statistics:\n",
      "  Matrix range     [1e+00, 1e+00]\n",
      "  QMatrix range    [1e+00, 3e+00]\n",
      "  QLMatrix range   [1e+00, 3e+00]\n",
      "  Objective range  [1e+00, 1e+00]\n",
      "  Bounds range     [1e+00, 1e+00]\n",
      "  RHS range        [8e-04, 2e+00]\n",
      "Presolve removed 92 rows and 111 columns\n",
      "Presolve time: 0.00s\n",
      "Presolved: 38 rows, 20 columns, 76 nonzeros\n",
      "Variable types: 1 continuous, 19 integer (19 binary)\n",
      "Found heuristic solution: objective 7.0000000\n",
      "\n",
      "Root relaxation: objective 2.921411e+00, 7 iterations, 0.00 seconds (0.00 work units)\n",
      "\n",
      "    Nodes    |    Current Node    |     Objective Bounds      |     Work\n",
      " Expl Unexpl |  Obj  Depth IntInf | Incumbent    BestBd   Gap | It/Node Time\n",
      "\n",
      "     0     0 infeasible    0         7.00000    7.00000  0.00%     -    0s\n",
      "\n",
      "Explored 1 nodes (7 simplex iterations) in 0.03 seconds (0.00 work units)\n",
      "Thread count was 8 (of 8 available processors)\n",
      "\n",
      "Solution count 1: 7 \n",
      "\n",
      "Optimal solution found (tolerance 1.00e-04)\n",
      "Best objective 7.000000000000e+00, best bound 7.000000000000e+00, gap 0.0000%\n",
      "Objective value is  7.0\n"
     ]
    }
   ],
   "source": [
    "# Solve the optimization problem\n",
    "status = model.optimize()\n",
    "ObjectiveValue=model.objVal\n",
    "# Output and analysis\n",
    "print(\"Objective value is \", ObjectiveValue)"
   ]
  },
  {
   "cell_type": "code",
   "execution_count": 53,
   "id": "7e410f83",
   "metadata": {},
   "outputs": [
    {
     "name": "stdout",
     "output_type": "stream",
     "text": [
      "0.6246056036024774\n"
     ]
    }
   ],
   "source": [
    "print(z.X)"
   ]
  },
  {
   "cell_type": "code",
   "execution_count": 57,
   "id": "784ba28d",
   "metadata": {},
   "outputs": [
    {
     "name": "stdout",
     "output_type": "stream",
     "text": [
      "1.0 1.0\n",
      "1.0 1.0\n",
      "1.0 1.0\n",
      "-0.0 1.0\n",
      "-0.0 1.0\n",
      "1.0 1.0\n",
      "1.0 1.0\n",
      "1.0 1.0\n",
      "1.0 1.0\n",
      "1.0 1.0\n",
      "1.0 1.0\n",
      "1.0 1.0\n",
      "1.0 1.0\n",
      "0.0 0.0\n",
      "0.0 0.0\n",
      "0.0 0.0\n",
      "0.0 0.0\n",
      "0.0 0.0\n",
      "0.0 0.0\n",
      "0.0 0.0\n",
      "0.0 0.0\n",
      "0.0 0.0\n",
      "0.0 0.0\n",
      "1.0 0.0\n",
      "0.0 0.0\n",
      "0.0 0.0\n"
     ]
    }
   ],
   "source": [
    "for i in y_pred:\n",
    "    print(y_pred[i].X, y[i])"
   ]
  },
  {
   "cell_type": "code",
   "execution_count": null,
   "id": "956efd87",
   "metadata": {},
   "outputs": [],
   "source": []
  }
 ],
 "metadata": {
  "kernelspec": {
   "display_name": "Python 3 (ipykernel)",
   "language": "python",
   "name": "python3"
  },
  "language_info": {
   "codemirror_mode": {
    "name": "ipython",
    "version": 3
   },
   "file_extension": ".py",
   "mimetype": "text/x-python",
   "name": "python",
   "nbconvert_exporter": "python",
   "pygments_lexer": "ipython3",
   "version": "3.9.12"
  }
 },
 "nbformat": 4,
 "nbformat_minor": 5
}
